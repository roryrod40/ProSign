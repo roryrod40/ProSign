{
  "nbformat": 4,
  "nbformat_minor": 0,
  "metadata": {
    "colab": {
      "provenance": [],
      "mount_file_id": "1icUHtj9c0fYqods-oRv95D3R9aRJH97L",
      "authorship_tag": "ABX9TyPbGyzb7zym5h/Xg5OGGM2C",
      "include_colab_link": true
    },
    "kernelspec": {
      "name": "python3",
      "display_name": "Python 3"
    },
    "language_info": {
      "name": "python"
    }
  },
  "cells": [
    {
      "cell_type": "markdown",
      "metadata": {
        "id": "view-in-github",
        "colab_type": "text"
      },
      "source": [
        "<a href=\"https://colab.research.google.com/github/roryrod40/ProSign/blob/master/ProSign.ipynb\" target=\"_parent\"><img src=\"https://colab.research.google.com/assets/colab-badge.svg\" alt=\"Open In Colab\"/></a>"
      ]
    },
    {
      "cell_type": "code",
      "source": [
        "from google.colab import drive\n",
        "drive.mount('/content/drive')"
      ],
      "metadata": {
        "colab": {
          "base_uri": "https://localhost:8080/"
        },
        "id": "7F4LTTtQe01m",
        "outputId": "7793c2f5-7fcb-4ebd-951d-cfff04835669"
      },
      "execution_count": null,
      "outputs": [
        {
          "output_type": "stream",
          "name": "stdout",
          "text": [
            "Drive already mounted at /content/drive; to attempt to forcibly remount, call drive.mount(\"/content/drive\", force_remount=True).\n"
          ]
        }
      ]
    },
    {
      "cell_type": "code",
      "execution_count": null,
      "metadata": {
        "id": "__bzZirUkPgP"
      },
      "outputs": [],
      "source": [
        "# Import Statements\n",
        "\n",
        "from IPython.display import display, Javascript\n",
        "from google.colab.output import eval_js\n",
        "from base64 import b64decode\n",
        "from keras.models import load_model  # TensorFlow is required for Keras to work\n",
        "from PIL import Image, ImageOps  # Install pillow instead of PIL\n",
        "import numpy as np\n",
        "import random\n",
        "import time"
      ]
    },
    {
      "cell_type": "code",
      "source": [
        "# Camera Function\n",
        "\n",
        "def take_photo(filename='photo.jpg', quality=0.8):\n",
        "  js = Javascript('''\n",
        "    async function takePhoto(quality) {\n",
        "      const div = document.createElement('div');\n",
        "      const capture = document.createElement('button');\n",
        "      capture.textContent = 'Capture';\n",
        "      div.appendChild(capture);\n",
        "\n",
        "      const video = document.createElement('video');\n",
        "      video.style.display = 'block';\n",
        "      const stream = await navigator.mediaDevices.getUserMedia({video: true});\n",
        "\n",
        "      document.body.appendChild(div);\n",
        "      div.appendChild(video);\n",
        "      video.srcObject = stream;\n",
        "      await video.play();\n",
        "\n",
        "      // Resize the output to fit the video element.\n",
        "      google.colab.output.setIframeHeight(document.documentElement.scrollHeight, true);\n",
        "\n",
        "      // Wait for Capture to be clicked.\n",
        "      await new Promise((resolve) => capture.onclick = resolve);\n",
        "\n",
        "      const canvas = document.createElement('canvas');\n",
        "      canvas.width = video.videoWidth;\n",
        "      canvas.height = video.videoHeight;\n",
        "      canvas.getContext('2d').drawImage(video, 0, 0);\n",
        "      stream.getVideoTracks()[0].stop();\n",
        "      div.remove();\n",
        "      return canvas.toDataURL('image/jpeg', quality);\n",
        "    }\n",
        "    ''')\n",
        "  display(js)\n",
        "  data = eval_js('takePhoto({})'.format(quality))\n",
        "  binary = b64decode(data.split(',')[1])\n",
        "  with open(filename, 'wb') as f:\n",
        "    f.write(binary)\n",
        "  return filename"
      ],
      "metadata": {
        "id": "urBFi37gkp42"
      },
      "execution_count": null,
      "outputs": []
    },
    {
      "cell_type": "code",
      "source": [
        "# Model Setup\n",
        "\n",
        "# Disable scientific notation for clarity\n",
        "np.set_printoptions(suppress=True)\n",
        "\n",
        "# Load the models\n",
        "alphabet_model = load_model(\"/content/drive/MyDrive/TeachableMachineModels/alphabet_model.h5\", compile=False)\n",
        "thumbs_up_model = load_model(\"/content/drive/MyDrive/TeachableMachineModels/thumbs_up_model.h5\", compile=False)\n",
        "\n",
        "# Load the labels\n",
        "alphabet_class_names = open(\"/content/drive/MyDrive/TeachableMachineModels/alphabet_labels.txt\", \"r\").readlines()\n",
        "thumbs_up_class_names = open(\"/content/drive/MyDrive/TeachableMachineModels/thumbs_up_labels.txt\", \"r\").readlines()\n",
        "\n",
        "# Create the array of the right shape to feed into the keras models\n",
        "# The 'length' or number of images you can put into the array is\n",
        "# determined by the first position in the shape tuple, in this case 1\n",
        "alphabet_data = np.ndarray(shape=(1, 224, 224, 3), dtype=np.float32)\n",
        "thumbs_up_data = np.ndarray(shape=(1, 224, 224, 3), dtype=np.float32)"
      ],
      "metadata": {
        "id": "sBWkhG64ksYF"
      },
      "execution_count": null,
      "outputs": []
    },
    {
      "cell_type": "code",
      "source": [
        "# Load Image Function\n",
        "def load_image(filename='photo.jpg'):\n",
        "  try:\n",
        "      file = take_photo(filename)\n",
        "      # print('Saved to {}'.format(file))\n",
        "\n",
        "      # Show the image which was just taken.\n",
        "      display(Image(file))\n",
        "  except Exception as err:\n",
        "      # Errors will be thrown if the user does not have a webcam or if they do not\n",
        "      # grant the page permission to access it.\n",
        "      error = str(err)\n",
        "      # print(error)\n",
        "\n",
        "  # Replace this with the path to your image\n",
        "  image = Image.open(filename).convert(\"RGB\")\n",
        "\n",
        "  # resizing the image to be at least 224x224 and then cropping from the center\n",
        "  size = (224, 224)\n",
        "  image = ImageOps.fit(image, size, Image.Resampling.LANCZOS)\n",
        "\n",
        "  # turn the image into a numpy array\n",
        "  image_array = np.asarray(image)\n",
        "\n",
        "  # Normalize the image\n",
        "  normalized_image_array = (image_array.astype(np.float32) / 127.5) - 1\n",
        "\n",
        "  # return image\n",
        "  return normalized_image_array\n"
      ],
      "metadata": {
        "id": "jtc_rNN9kwit"
      },
      "execution_count": null,
      "outputs": []
    },
    {
      "cell_type": "code",
      "source": [
        "# Prediction + Print Results Function\n",
        "def predict(model, data, class_names):\n",
        "  # Predicts the model\n",
        "  prediction = model.predict(data)\n",
        "  index = np.argmax(prediction)\n",
        "  class_name = class_names[index]\n",
        "  confidence_score = prediction[0][index]\n",
        "\n",
        "  # Print prediction and confidence score\n",
        "  # print(\"Class:\", class_name, end=\"\")\n",
        "  # print(\"Confidence Score:\", confidence_score)\n",
        "  # print(prediction)\n",
        "\n",
        "  # return index of predicted class\n",
        "  return index"
      ],
      "metadata": {
        "id": "h1nAh9upkyIP"
      },
      "execution_count": null,
      "outputs": []
    },
    {
      "cell_type": "code",
      "source": [
        "# Slow Print Function\n",
        "def slow_print(str, rate = 0):\n",
        "  for letter in str:\n",
        "    print(letter, end=\"\")\n",
        "    time.sleep(rate)\n"
      ],
      "metadata": {
        "id": "AKWZjL6zYtbH"
      },
      "execution_count": null,
      "outputs": []
    },
    {
      "cell_type": "code",
      "source": [
        "# Quiz Logic\n",
        "\n",
        "# Useful vairables for game\n",
        "letters = ['A', 'B', 'C', 'D', 'E', 'F', 'G', 'H', 'I', 'K', 'L', 'M', 'N', 'O', 'P', 'Q', 'R', 'S', 'T', 'U', 'V', 'W', 'X', 'Y']\n",
        "best_score = 0\n",
        "questions = 5\n",
        "\n",
        "# Get input for number of games to play\n",
        "slow_print(\"Welcome to the sign language quiz\\n\")\n",
        "valid_input = False\n",
        "while not valid_input:\n",
        "  slow_print(\"Enter the number of questions: \")\n",
        "  questions = input(\"\")\n",
        "  if questions.isnumeric() and int(questions) > 0 and int(questions) < 25:\n",
        "    valid_input = True\n",
        "  else:\n",
        "    slow_print(\"Please enter a valid number\\n\")\n",
        "    slow_print(\"Question number must be between 1 and 24 inclusive\\n\")\n",
        "\n",
        "# Loop quiz through while playing\n",
        "playing = True\n",
        "while playing:\n",
        "\n",
        "  # Useful quiz variables\n",
        "  current_score = 0\n",
        "  letters_str = \"ABCDEFGHIKLMNOPQRSTUVWXY\"\n",
        "\n",
        "  # Loop through for all questions\n",
        "  for i in range(int(questions)):\n",
        "\n",
        "    # Find letter and index\n",
        "    rand_index = random.randint(0, len(letters_str) - 1)\n",
        "    letter = letters_str[rand_index]\n",
        "    letters_str = letters_str[:rand_index] + letters_str[rand_index + 1:]\n",
        "    letter_index = letters.index(letter)\n",
        "\n",
        "\n",
        "    # Load the image into the array\n",
        "    slow_print(\"Sign the letter \" + letter + \"\\n\")\n",
        "    alphabet_data[0] = load_image(\"alphabet.jpg\")\n",
        "\n",
        "    # Predict user input\n",
        "    player_index = predict(alphabet_model, alphabet_data, alphabet_class_names)\n",
        "\n",
        "    # Check user input\n",
        "    if(player_index == letter_index):\n",
        "      slow_print(\"Correct!\\n\")\n",
        "      current_score += 1\n",
        "    else:\n",
        "      slow_print(\"Incorrect :(\\n\")\n",
        "      slow_print(\"You signed the letter \" + alphabet_class_names[player_index][2:-1] + \"\\n\")\n",
        "\n",
        "  # Update best score\n",
        "  best_score = max(best_score, current_score)\n",
        "\n",
        "  # Print scores\n",
        "  slow_print(\"Score: \" + str(current_score) + \"/\" + str(int(questions)) + \"\\n\")\n",
        "  slow_print(\"Highscore: \" + str(best_score))\n",
        "\n",
        "  slow_print(\"Give a thumbs up to keep playing!\\n\")\n",
        "\n",
        "  # Load the image into the array\n",
        "  thumbs_up_data[0] = load_image(\"thumbs_up.jpg\")\n",
        "\n",
        "  # Predict user input\n",
        "  thumbs_up = predict(thumbs_up_model, thumbs_up_data, thumbs_up_class_names) == 0\n",
        "  if(not thumbs_up):\n",
        "    playing = False\n",
        "\n",
        "slow_print(\"Thanks for playing!\")\n"
      ],
      "metadata": {
        "id": "AxzYg2LUkz0G"
      },
      "execution_count": null,
      "outputs": []
    }
  ]
}